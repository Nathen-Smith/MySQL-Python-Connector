{
  "nbformat": 4,
  "nbformat_minor": 0,
  "metadata": {
    "colab": {
      "name": "mySQLconnector.ipynb",
      "provenance": []
    },
    "kernelspec": {
      "name": "python3",
      "display_name": "Python 3"
    },
    "language_info": {
      "name": "python"
    }
  },
  "cells": [
    {
      "cell_type": "code",
      "metadata": {
        "colab": {
          "base_uri": "https://localhost:8080/"
        },
        "id": "NcYaXJSF5VS3",
        "outputId": "22da91ec-ee17-4c3b-e73c-118e4a768988"
      },
      "source": [
        "!pip install mysql-connector-python"
      ],
      "execution_count": null,
      "outputs": [
        {
          "output_type": "stream",
          "text": [
            "Collecting mysql-connector-python\n",
            "\u001b[?25l  Downloading https://files.pythonhosted.org/packages/de/f7/b783b60a3bd8aea348990c60fb0b3ed2f843c6f40ad29e37a89a5d50d7a3/mysql_connector_python-8.0.23-cp37-cp37m-manylinux1_x86_64.whl (18.0MB)\n",
            "\u001b[K     |████████████████████████████████| 18.1MB 1.3MB/s \n",
            "\u001b[?25hRequirement already satisfied: protobuf>=3.0.0 in /usr/local/lib/python3.7/dist-packages (from mysql-connector-python) (3.12.4)\n",
            "Requirement already satisfied: six>=1.9 in /usr/local/lib/python3.7/dist-packages (from protobuf>=3.0.0->mysql-connector-python) (1.15.0)\n",
            "Requirement already satisfied: setuptools in /usr/local/lib/python3.7/dist-packages (from protobuf>=3.0.0->mysql-connector-python) (54.1.2)\n",
            "Installing collected packages: mysql-connector-python\n",
            "Successfully installed mysql-connector-python-8.0.23\n"
          ],
          "name": "stdout"
        }
      ]
    },
    {
      "cell_type": "code",
      "metadata": {
        "colab": {
          "base_uri": "https://localhost:8080/"
        },
        "id": "cPQQtB4N5jt1",
        "outputId": "925f55b3-d895-4e62-b1d2-520989a23eb8"
      },
      "source": [
        "!curl ipecho.net/plain"
      ],
      "execution_count": null,
      "outputs": [
        {
          "output_type": "stream",
          "text": [
            "34.83.245.67"
          ],
          "name": "stdout"
        }
      ]
    },
    {
      "cell_type": "code",
      "execution_count": null,
      "metadata": {},
      "outputs": [],
      "source": [
        "import mysql.connector\n",
        "\n",
        "mydb = mysql.connector.connect (\n",
        "    host = \"34.67.235.223\",\n",
        "    user = \"root\",\n",
        "    password = \"\",\n",
        "    database = \"HippoCampus\"\n",
        ")\n",
        "\n",
        "mycursor = mydb.cursor()\n",
        "\n",
        "mycursor.execute(\"CREATE TABLE Skills (UserID INTEGER NOT NULL, Skill1 VARCHAR(30), Skill2 VARCHAR(30), Skill3 VARCHAR(30), Rating1 INTEGER, Rating2 INTEGER, Rating3 INTEGER, FOREIGN KEY(UserID) REFERENCES User(UserID) ON DELETE CASCADE, PRIMARY KEY(UserID));\")\n",
        "\n",
        "mydb.commit()\n",
        "mycursor.close()\n",
        "mydb.close()"
      ]
    },
    {
      "cell_type": "code",
      "metadata": {
        "id": "KPt0cTP75m38"
      },
      "source": [
        "import mysql.connector\n",
        "\n",
        "mydb = mysql.connector.connect (\n",
        "    host = \"34.67.235.223\",\n",
        "    user = \"root\",\n",
        "    password = \"\",\n",
        "    database = \"HippoCampus\"\n",
        ")\n",
        "\n",
        "mycursor = mydb.cursor()\n",
        "\n",
        "skills = ['Algorithms','Analytical Skills','Big Data','Calculating','Compiling Statistics','Data Analytics','Data Mining','Database Design','Database Management','Documentation','Modeling','Modification','Needs Analysis','Quantitative Research','Quantitative Reports','Statistical Analysis','Applications','Certifications','Coding','Computing','Configuration','Customer Support','Debugging','Design','Development','Hardware','Implementation','Information Technology', 'Infrastructure','Languages','Maintenance','Network Architecture','Network Security','Networking','New Technologies','Operating Systems','Programming','Restoration','Security','Servers','Software','Solution Delivery','Storage','Structures','Systems Analysis','Technical Support','Technology','Testing','Tools','Training','Troubleshooting','Usability','Benchmarking','Budget Planning','Engineering','Fabrication','Following Specifications','Operations','Performance Review','Project Planning','Quality Assurance','Quality Control','Scheduling','Task Delegation','Task Management','Blogging','Digital Photography','Digital Media','Facebook','Instagram','Networking','Pinterest','SEO','Social Media Platforms','Twitter','Web Analytics','Client Relations','Email','Requirements Gathering','Research','Subject Matter Experts (SMEs)','Technical Documentation', 'Mathematics', 'Physics', 'Essay Writing', 'Calculus', 'Differential Equations', 'Graph Theory', 'Machine Learning', 'History', 'Political Science', 'Business', 'Agriculture', 'Blacksmithing', 'Soldering', 'Carpentry', 'C++', 'C', 'Java', 'C#', 'Python', 'Go', 'Rust', 'MySQL', 'SQL', 'PostGreSQL', 'MongoDB', 'Neo4j', 'React', 'Vue', 'CI/CD', 'NodeJS', 'JavaScript', 'R', 'Matlab', 'Creo', 'Algebra', 'Geometry', 'Addition', 'Multiplication', '2-digit Multiplication', '3-digit Multiplication', 'Music Production', 'Cooking', 'Fashion', 'Chemistry', 'Biology', 'Molecular & Cellular Biology', 'Economics', 'Thermal Physics', 'Quantum Physics', 'Electromagnetic Physics', 'Theoretical Physics', 'Astrophysics', 'Easter Egg Finding']\n",
        "\n",
        "for i in range(1, 1001):\n",
        "  ins = (\"INSERT INTO Skills(UserID, Skill1, Skill2, Skill3, Rating1, Rating2, Rating3) VALUES(%s, %s, %s, %s, %s, %s, %s)\")\n",
        "  val = (i, skills[(i + 2) % 134], skills[(i + 7) % 134], skills[(i + 25) % 134], max(2, i % 6), min(4, ((i-1) % 6) + 3), max(3, (i+1) % 6))#simulates random skill assignment\n",
        "  mycursor.execute(ins, val)\n",
        "\n",
        "mydb.commit()\n",
        "mycursor.close()\n",
        "mydb.close()"
      ],
      "execution_count": null,
      "outputs": []
    },
    {
      "cell_type": "code",
      "metadata": {
        "id": "hlOXb6I_X4UV"
      },
      "source": [
        "import mysql.connector\n",
        "\n",
        "mydb = mysql.connector.connect (\n",
        "    host = \"34.67.235.223\",\n",
        "    user = \"root\",\n",
        "    password = \"\",\n",
        "    database = \"HippoCampus\"\n",
        ")\n",
        "\n",
        "mycursor = mydb.cursor()\n",
        "\n",
        "# View the whole Skills table:\n",
        "# mycursor.execute(\"SELECT * From Skills\")\n",
        "\n",
        "# simple update command\n",
        "# EX: mycursor.execute(\"UPDATE Likes SET Skill1 = 'Underwater Basket Weaving' WHERE UserID = '4'\")\n",
        "\n",
        "# Below is a an advanced SQL query that averages the ratings of users who list 'coding' or 'Addition' as a skill. Results are ordered by average\n",
        "# rating descendingly and limited to the top 15 averages. Note that formatting needs to be fixed to be one line.\n",
        "# References https://dba.stackexchange.com/questions/51486/obtaining-the-average-of-three-columns-per-row-in-sql\n",
        "\n",
        "# avg_ratings = \"\n",
        "# (SELECT FirstName, LastName, CASE WHEN COALESCE(Rating1, Rating2, Rating3) IS NOT NULL THEN \n",
        "#   (COALESCE(Rating1, 0) + COALESCE(Rating2, 0) + COALESCE(Rating3, 0))/(\n",
        "#     CASE WHEN Rating1 IS NULL THEN 0 ELSE 1 END +\n",
        "#     CASE WHEN Rating2 IS NULL THEN 0 ELSE 1 END +\n",
        "#     CASE WHEN Rating3 IS NULL THEN 0 ELSE 1 END) END as avgRating \n",
        "# FROM Skills NATURAL JOIN User \n",
        "# WHERE Skill1 = 'coding' or Skill2 = 'coding' or Skill3 = 'coding' \n",
        "# GROUP BY UserID) \n",
        "# UNION \n",
        "# (SELECT FirstName, LastName, CASE WHEN COALESCE(Rating1, Rating2, Rating3) IS NOT NULL THEN \n",
        "#   (COALESCE(Rating1, 0) + COALESCE(Rating2, 0) + COALESCE(Rating3, 0))/(\n",
        "#     CASE WHEN Rating1 IS NULL THEN 0 ELSE 1 END +\n",
        "#     CASE WHEN Rating2 IS NULL THEN 0 ELSE 1 END + \n",
        "#     CASE WHEN Rating3 IS NULL THEN 0 ELSE 1 END) END as avgRating\n",
        "# FROM Skills NATURAL JOIN User\n",
        "# WHERE Skill1 = 'Addition' or Skill2 = 'Addition' or Skill3 = 'Addition' \n",
        "# GROUP BY UserID) \n",
        "# ORDER BY avgRating DESC \n",
        "# LIMIT 15;\"\n",
        "\n",
        "# mycursor.execute(avg_ratings)\n",
        "\n",
        "myresult = mycursor.fetchall()\n",
        "\n",
        "for i in myresult:\n",
        "  print(i)\n",
        "\n",
        "\n",
        "mydb.commit()\n",
        "mycursor.close()\n",
        "mydb.close()"
      ],
      "execution_count": null,
      "outputs": []
    }
  ]
}